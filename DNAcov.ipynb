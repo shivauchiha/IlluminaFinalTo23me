{
 "cells": [
  {
   "cell_type": "code",
   "execution_count": null,
   "id": "c3c5523e-4173-4e51-95ab-4295b50089da",
   "metadata": {},
   "outputs": [],
   "source": [
    "#install pylift \n",
    "%pip install pyliftover\n",
    "%pip install tqdm\n"
   ]
  },
  {
   "cell_type": "code",
   "execution_count": null,
   "id": "c4da9462-0608-4834-a503-3fa24d24e586",
   "metadata": {},
   "outputs": [],
   "source": [
    "#import pandas for data manipulation and pylift for lifting coordinates from build38 to build37\n",
    "import pandas as pd\n",
    "from pyliftover import LiftOver\n",
    "from tqdm import tqdm\n"
   ]
  },
  {
   "cell_type": "code",
   "execution_count": null,
   "id": "6266e6a0-fc1e-4dbb-97f5-3cde34031515",
   "metadata": {},
   "outputs": [],
   "source": [
    "#read illumina GSA3.0 file\n",
    "dna_df = pd.read_csv('DNA.txt',delimiter='\\t',low_memory=False,skiprows=10)\n",
    "#get overview of columns in the illumina final report file\n",
    "dna_df.columns.tolist()"
   ]
  },
  {
   "cell_type": "code",
   "execution_count": null,
   "id": "312d4065-c87d-4542-bd8e-777b4ea53afd",
   "metadata": {},
   "outputs": [],
   "source": [
    "#check if all markers are targeted 600K+\n",
    "dna_df.shape"
   ]
  },
  {
   "cell_type": "code",
   "execution_count": null,
   "id": "cd5b17dc-8e0f-487c-ab26-a8eb197d98c7",
   "metadata": {},
   "outputs": [],
   "source": [
    "#brief overview of the data\n",
    "dna_df.head()"
   ]
  },
  {
   "cell_type": "code",
   "execution_count": null,
   "id": "3a0857ea-13c5-4887-9945-0bdaf8f3695f",
   "metadata": {},
   "outputs": [],
   "source": [
    "#read loci to rsid conversion file can be downloaded from support section of GSA3.0 on infinium illumina downloads section\n",
    "rsid_cov_df = pd.read_csv('rsidcov.txt',delimiter='\\t',low_memory=False)\n",
    "#get overview of how the conversion file \n",
    "rsid_cov_df.head()"
   ]
  },
  {
   "cell_type": "code",
   "execution_count": null,
   "id": "c7a02f66-34fb-4210-b12d-3acc33f89ac6",
   "metadata": {},
   "outputs": [],
   "source": [
    "#create a pandas data frame which will act as base for 23&me file. \n",
    "#23me format uses SNP name as defined in snpdb, chromosome type, position in the build37, genotype (combination of allele1 and allele2 plus(positive strand))\n",
    "stagingdf = dna_df[['SNP Name','Chr','Position','Allele1 - Plus','Allele2 - Plus','Plus/Minus Strand']].copy()\n",
    "#overview of filtered strand\n",
    "stagingdf.head()"
   ]
  },
  {
   "cell_type": "code",
   "execution_count": null,
   "id": "f98437f2-4a79-4b2b-91d3-79e56f49134b",
   "metadata": {},
   "outputs": [],
   "source": [
    "\n",
    "#verify shape of spliced data\n",
    "stagingdf.shape"
   ]
  },
  {
   "cell_type": "code",
   "execution_count": null,
   "id": "0babb666-b708-4a27-8d0a-88579cd95af6",
   "metadata": {},
   "outputs": [],
   "source": [
    "stagingdf['genotype'] = stagingdf['Allele1 - Plus']+stagingdf['Allele2 - Plus']"
   ]
  },
  {
   "cell_type": "code",
   "execution_count": null,
   "id": "fc66484f-43a8-4ade-875f-03de4a54a8ea",
   "metadata": {},
   "outputs": [],
   "source": [
    "stagingdf.head()"
   ]
  },
  {
   "cell_type": "code",
   "execution_count": null,
   "id": "3b654c21-a697-4c77-8c9f-5ff8f3d2fd63",
   "metadata": {},
   "outputs": [],
   "source": [
    "lo = LiftOver('hg38', 'hg19')"
   ]
  },
  {
   "cell_type": "code",
   "execution_count": null,
   "id": "3d8a7494-8825-4a36-9a56-e510b41cdcaa",
   "metadata": {},
   "outputs": [],
   "source": [
    "#empty dataframe to hold liftover data\n",
    "columns=['SNPname','chromosome','position','genotype']\n",
    "df23me = pd.DataFrame(columns=columns) "
   ]
  },
  {
   "cell_type": "code",
   "execution_count": null,
   "id": "4570e1bc-44d8-4408-a52e-29815e103f87",
   "metadata": {},
   "outputs": [],
   "source": [
    "#liftover failure statistics\n",
    "zero = 0\n",
    "one = 0\n",
    "two = 0\n",
    "three = 0\n",
    "four = 0\n",
    "greaterfour = 0\n",
    "nonecnt = 0\n",
    "argzero = 0\n",
    "\n",
    "for index,row in tqdm(stagingdf.iterrows(), total=len(stagingdf), desc=\"Processing rows\"):\n",
    "    liftover_result = lo.convert_coordinate('chr'+stagingdf.loc[index]['Chr'],stagingdf.loc[index]['Position'],stagingdf.loc[index]['Plus/Minus Strand'])\n",
    "    if liftover_result is not None:\n",
    "        if(len(liftover_result) == 0):\n",
    "            zero = zero+1\n",
    "        else:\n",
    "            count = len(liftover_result[0])\n",
    "            if(count ==0):\n",
    "                argzero = argzero+1\n",
    "            elif(count == 1):\n",
    "                one = one+1\n",
    "            elif(count == 2):\n",
    "                two = two +1\n",
    "            elif(count == 3):\n",
    "                three = three+1\n",
    "            elif(count == 4):\n",
    "                four = four +1\n",
    "            else:\n",
    "                greaterfour = greaterfour+1\n",
    "            \n",
    "        \n",
    "\n",
    "    else:\n",
    "       nonecnt = nonecnt + 1  \n",
    "    \n",
    "stat = [zero, \n",
    "one, \n",
    "two, \n",
    "three, \n",
    "four, \n",
    "greaterfour, \n",
    "nonecnt, \n",
    "argzero]    \n",
    "\n",
    "stat"
   ]
  },
  {
   "cell_type": "code",
   "execution_count": null,
   "id": "c58a06ac-69c0-496b-9791-817a7900363b",
   "metadata": {},
   "outputs": [],
   "source": [
    "\n",
    "#perform liftover\n",
    "for index,row in tqdm(stagingdf.iterrows(), total=len(stagingdf), desc=\"Processing rows\"):\n",
    "    liftover_result = lo.convert_coordinate('chr'+stagingdf.loc[index]['Chr'],stagingdf.loc[index]['Position'],stagingdf.loc[index]['Plus/Minus Strand'])\n",
    "    if liftover_result is not None and (len(liftover_result)>0) :\n",
    "       new_row = pd.DataFrame({'SNPname': [stagingdf.loc[index]['SNP Name']], 'chromosome': [liftover_result[0][0].replace(\"chr\", \"\")], 'position': [liftover_result[0][1]],'genotype': [stagingdf.loc[index]['genotype']]})\n",
    "       df23me = pd.concat([df23me, new_row], ignore_index=True)"
   ]
  },
  {
   "cell_type": "code",
   "execution_count": null,
   "id": "1a6d899f-2f06-4aa9-815c-79ed596a38cb",
   "metadata": {},
   "outputs": [],
   "source": [
    "df23me.head()"
   ]
  },
  {
   "cell_type": "code",
   "execution_count": null,
   "id": "c6ec928d-6692-4011-a5f8-4fb98b15e8fb",
   "metadata": {},
   "outputs": [],
   "source": [
    "#create final data frame\n",
    "columns=['rsid','chromosome','position','genotype']\n",
    "final = pd.DataFrame(columns=columns) "
   ]
  },
  {
   "cell_type": "code",
   "execution_count": null,
   "id": "aaabf940-9919-4416-9384-a083a6889694",
   "metadata": {},
   "outputs": [],
   "source": [
    "#remove genotype that doesn't have high GT score\n",
    "mask = df23me['genotype'].str.contains('-')\n",
    "df23me = df23me[~mask]"
   ]
  },
  {
   "cell_type": "code",
   "execution_count": null,
   "id": "64d25ff4-d742-40f7-b080-09e60422896e",
   "metadata": {},
   "outputs": [],
   "source": [
    "#rsid conversion\n",
    "for index,row in tqdm(df23me.iterrows(), total=len(df23me), desc=\"Processing rows\"):\n",
    "    rsid_row = rsid_cov_df[rsid_cov_df['Name'] == df23me.loc[index]['SNPname']]\n",
    "    rsids = rsid_row['RsID'].str.split(',')\n",
    "    for i in  range(len(rsids.iloc[0])):\n",
    "      new_row = pd.DataFrame({'rsid': [rsids.iloc[0][i]], 'chromosome': [df23me.loc[index]['chromosome']], 'position': [df23me.loc[index]['position']],'genotype': [df23me.loc[index]['genotype']]})\n",
    "      final = pd.concat([final, new_row], ignore_index=True)\n"
   ]
  },
  {
   "cell_type": "code",
   "execution_count": null,
   "id": "e9ba236b-c455-4d18-b212-7c26a6c3949b",
   "metadata": {},
   "outputs": [],
   "source": [
    "final.head(20)"
   ]
  },
  {
   "cell_type": "code",
   "execution_count": null,
   "id": "7bff0991-5a7b-4535-8209-747d5392a942",
   "metadata": {},
   "outputs": [],
   "source": [
    "#final output file\n",
    "final.to_csv('23andme_format.csv', sep='\\t', index=False)"
   ]
  },
  {
   "cell_type": "code",
   "execution_count": null,
   "id": "473704db-6374-47a8-a0b5-9e4a824b3f50",
   "metadata": {},
   "outputs": [],
   "source": []
  }
 ],
 "metadata": {
  "kernelspec": {
   "display_name": "Python 3 (ipykernel)",
   "language": "python",
   "name": "python3"
  },
  "language_info": {
   "codemirror_mode": {
    "name": "ipython",
    "version": 3
   },
   "file_extension": ".py",
   "mimetype": "text/x-python",
   "name": "python",
   "nbconvert_exporter": "python",
   "pygments_lexer": "ipython3",
   "version": "3.9.19"
  }
 },
 "nbformat": 4,
 "nbformat_minor": 5
}
